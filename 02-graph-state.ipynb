{
 "cells": [
  {
   "cell_type": "code",
   "execution_count": 29,
   "metadata": {},
   "outputs": [
    {
     "data": {
      "image/png": "[encoded data removed]",
      "text/plain": [
       "<IPython.core.display.Image object>"
      ]
     },
     "metadata": {},
     "output_type": "display_data"
    },
    {
     "name": "stdout",
     "output_type": "stream",
     "text": [
      "node_1 executed {'messages': []}\n",
      "node_2 executed {'messages': [HumanMessage(content='hello', additional_kwargs={}, response_metadata={}, id='57157e02-dbc3-4940-b0f6-805e173a0c54')], 'foo': 'bar'}\n"
     ]
    },
    {
     "data": {
      "text/plain": [
       "{'messages': [HumanMessage(content='hello', additional_kwargs={}, response_metadata={}, id='57157e02-dbc3-4940-b0f6-805e173a0c54'),\n",
       "  HumanMessage(content='another message', additional_kwargs={}, response_metadata={}, id='3c8c0282-fc1a-45b6-93bb-404eca155efd')]}"
      ]
     },
     "execution_count": 29,
     "metadata": {},
     "output_type": "execute_result"
    }
   ],
   "source": [
    "from langgraph.graph import StateGraph, START, END, MessagesState\n",
    "from typing_extensions import TypedDict\n",
    "from IPython.display import Image\n",
    "\n",
    "class State(TypedDict):\n",
    "  messages: MessagesState\n",
    "  foo: str\n",
    "\n",
    "graphBuilder = StateGraph(MessagesState)\n",
    "\n",
    "#node 1\n",
    "def node_1(state: State):\n",
    "  print(\"node_1 executed\", state)\n",
    "  return {\"messages\": [\"hello\"], \"foo\": \"bar\"}\n",
    "\n",
    "#node 2\n",
    "def node_2(state: State):\n",
    "  print(\"node_2 executed\", state)\n",
    "  return {\"messages\": [\"another message\"]}\n",
    "\n",
    "graphBuilder.add_node(\"node_1\", node_1)\n",
    "graphBuilder.add_node(\"node_2\", node_2)\n",
    "\n",
    "\n",
    "graphBuilder.add_edge(START, \"node_1\")\n",
    "graphBuilder.add_edge(\"node_1\", \"node_2\")\n",
    "graphBuilder.add_edge(\"node_2\", END)\n",
    "\n",
    "graph = graphBuilder.compile()\n",
    "\n",
    "display(Image(graph.get_graph().draw_mermaid_png()))\n",
    "newState = graph.invoke({\"messages\": [], \"foo\": \"quejeso\"})\n",
    "newState"
   ]
  },
  {
   "cell_type": "markdown",
   "metadata": {},
   "source": [
    "As you can see, the state is updated with the messages but the foo property is not."
   ]
  },
  {
   "cell_type": "code",
   "execution_count": null,
   "metadata": {},
   "outputs": [],
   "source": [
    "\n"
   ]
  }
 ],
 "metadata": {
  "kernelspec": {
   "display_name": "venv",
   "language": "python",
   "name": "python3"
  },
  "language_info": {
   "codemirror_mode": {
    "name": "ipython",
    "version": 3
   },
   "file_extension": ".py",
   "mimetype": "text/x-python",
   "name": "python",
   "nbconvert_exporter": "python",
   "pygments_lexer": "ipython3",
   "version": "3.12.3"
  }
 },
 "nbformat": 4,
 "nbformat_minor": 2
}
