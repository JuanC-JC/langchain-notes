{
 "cells": [
  {
   "cell_type": "markdown",
   "metadata": {},
   "source": [
    "# Basic Agent\n",
    "\n",
    "Does three arimethic operations:\n",
    "- multiply\n",
    "- add\n",
    "- divide"
   ]
  },
  {
   "cell_type": "code",
   "execution_count": 11,
   "metadata": {},
   "outputs": [],
   "source": [
    "from langgraph.graph import StateGraph, START, END, MessagesState\n",
    "from langchain_core.messages import SystemMessage\n",
    "from langchain_core.tools import tool\n",
    "\n",
    "def multiply(a, b):\n",
    "  \"\"\"Multiply a and b.\n",
    "\n",
    "  Args:\n",
    "      a: first int\n",
    "      b: second int\n",
    "  \"\"\"\n",
    "  return a * b\n",
    "\n",
    "def add(a, b):\n",
    "  \"\"\"Add a and b.\n",
    "\n",
    "  Args:\n",
    "      a: first int\n",
    "      b: second int\n",
    "  \"\"\"\n",
    "  return a + b\n",
    "\n",
    "def divide(a, b):\n",
    "  \"\"\"Divide a by b.\n",
    "\n",
    "  Args:\n",
    "      a: first int\n",
    "      b: second int\n",
    "  \"\"\"\n",
    "  return a / b\n",
    "\n",
    "assistant_message = SystemMessage(content=\"You are a helpful assistant tasked with performing arithmetic on a set of inputs.\")\n",
    "\n",
    "# node to add context for the tool calls\n",
    "def assistant_node(state: MessagesState):\n",
    "  return {\"messages\": [assistant_message + state[\"messages\"]]}"
   ]
  },
  {
   "cell_type": "markdown",
   "metadata": {},
   "source": [
    "For add the tools we need to use the llm the tools is not directly apply on the graph by himself"
   ]
  },
  {
   "cell_type": "code",
   "execution_count": 16,
   "metadata": {},
   "outputs": [
    {
     "data": {
      "image/png": "[encoded data removed]",
      "text/plain": [
       "<IPython.core.display.Image object>"
      ]
     },
     "metadata": {},
     "output_type": "display_data"
    }
   ],
   "source": [
    "from langchain_openai import ChatOpenAI\n",
    "from langgraph.prebuilt import ToolNode, tools_condition\n",
    "from IPython.display import Image\n",
    "\n",
    "\n",
    "#instance the llm and add the tools\n",
    "#llm = ChatOpenAI(model=\"gpt-4o-mini\")\n",
    "tools = [multiply, add, divide]\n",
    "#llm_with_tools = llm.bind_tools(tools)\n",
    "\n",
    "\n",
    "#create the graph\n",
    "graph_builder = StateGraph(MessagesState)\n",
    "\n",
    "graph_builder.add_node(\"agent\", assistant_node)\n",
    "graph_builder.add_node(\"tools\", ToolNode(tools))\n",
    "\n",
    "\n",
    "graph_builder.add_edge(START, \"agent\")\n",
    "graph_builder.add_conditional_edges(\"agent\", tools_condition)\n",
    "graph_builder.add_edge(\"tools\", END)\n",
    "\n",
    "graph = graph_builder.compile()\n",
    "\n",
    "display(Image(graph.get_graph().draw_mermaid_png()))\n",
    "\n",
    "#graph.invoke({\"messages\": []})"
   ]
  }
 ],
 "metadata": {
  "kernelspec": {
   "display_name": "venv",
   "language": "python",
   "name": "python3"
  },
  "language_info": {
   "codemirror_mode": {
    "name": "ipython",
    "version": 3
   },
   "file_extension": ".py",
   "mimetype": "text/x-python",
   "name": "python",
   "nbconvert_exporter": "python",
   "pygments_lexer": "ipython3",
   "version": "3.12.3"
  }
 },
 "nbformat": 4,
 "nbformat_minor": 2
}
